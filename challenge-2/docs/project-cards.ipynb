{
 "cells": [
  {
   "cell_type": "code",
   "execution_count": null,
   "id": "3cbcccd8",
   "metadata": {},
   "outputs": [
    {
     "name": "stderr",
     "output_type": "stream",
     "text": [
      "Loading images: 100%|██████████| 1222/1222 [00:02<00:00, 421.59it/s]\n",
      "Loading images: 100%|██████████| 967/967 [00:00<00:00, 1906.17it/s]\n"
     ]
    },
    {
     "name": "stdout",
     "output_type": "stream",
     "text": [
      "\u001b[1m39/39\u001b[0m \u001b[32m━━━━━━━━━━━━━━━━━━━━\u001b[0m\u001b[37m\u001b[0m \u001b[1m1s\u001b[0m 22ms/step\n",
      "\u001b[1m31/31\u001b[0m \u001b[32m━━━━━━━━━━━━━━━━━━━━\u001b[0m\u001b[37m\u001b[0m \u001b[1m1s\u001b[0m 19ms/step\n",
      "\n",
      "🔎 Pseudo-ground-truth labels generated.\n"
     ]
    },
    {
     "name": "stderr",
     "output_type": "stream",
     "text": [
      "/Users/sagnikdey/Downloads/FINAL/VENV/lib/python3.10/site-packages/sklearn/utils/extmath.py:203: RuntimeWarning: divide by zero encountered in matmul\n",
      "  ret = a @ b\n",
      "/Users/sagnikdey/Downloads/FINAL/VENV/lib/python3.10/site-packages/sklearn/utils/extmath.py:203: RuntimeWarning: overflow encountered in matmul\n",
      "  ret = a @ b\n",
      "/Users/sagnikdey/Downloads/FINAL/VENV/lib/python3.10/site-packages/sklearn/utils/extmath.py:203: RuntimeWarning: invalid value encountered in matmul\n",
      "  ret = a @ b\n",
      "WARNING:absl:Compiled the loaded model, but the compiled metrics have yet to be built. `model.compile_metrics` will be empty until you train or evaluate the model.\n"
     ]
    },
    {
     "name": "stdout",
     "output_type": "stream",
     "text": [
      "\u001b[1m31/31\u001b[0m \u001b[32m━━━━━━━━━━━━━━━━━━━━\u001b[0m\u001b[37m\u001b[0m \u001b[1m1s\u001b[0m 16ms/step\n",
      "\n",
      "✅ F1 Scores (pseudo-ground-truth): soil=0.9581, not_soil=0.9592\n",
      "\n",
      "📊 Metrics saved to /Users/sagnikdey/Downloads/FINAL/challenge-2/docs/cards/ml-metric.json\n"
     ]
    }
   ],
   "source": [
    "import os\n",
    "import sys\n",
    "import json\n",
    "import numpy as np\n",
    "from tensorflow.keras.models import load_model\n",
    "from sklearn.metrics import f1_score\n",
    "from sklearn.cluster import KMeans\n",
    "from sklearn.metrics.pairwise import cosine_distances\n",
    "from tensorflow.keras.layers import Input, Conv2D, MaxPooling2D, GlobalAveragePooling2D\n",
    "from tensorflow.keras.models import Model\n",
    "\n",
    "sys.path.append(os.path.abspath(os.path.join(os.getcwd(), \"../src\")))\n",
    "from preprocessing import load_metadata, load_images\n",
    "\n",
    "# ✅ Paths\n",
    "BASE_DIR = os.path.abspath(os.path.join(os.getcwd(), \"../data\"))\n",
    "DOCS_DIR = os.path.abspath(os.path.join(os.getcwd(), \"../docs/cards\"))\n",
    "os.makedirs(DOCS_DIR, exist_ok=True)\n",
    "\n",
    "# ✅ Load metadata and images\n",
    "train_df, test_df = load_metadata(BASE_DIR)\n",
    "train_images = load_images(train_df)\n",
    "test_images = load_images(test_df)\n",
    "\n",
    "# ✅ Feature extractor (same as training)\n",
    "inp = Input(shape=(128, 128, 3))\n",
    "x = Conv2D(32, (3, 3), activation=\"relu\")(inp)\n",
    "x = MaxPooling2D()(x)\n",
    "x = Conv2D(64, (3, 3), activation=\"relu\")(x)\n",
    "x = MaxPooling2D()(x)\n",
    "x = Conv2D(128, (3, 3), activation=\"relu\")(x)\n",
    "x = GlobalAveragePooling2D()(x)\n",
    "feature_model = Model(inputs=inp, outputs=x)\n",
    "train_features = feature_model.predict(train_images, verbose=1)\n",
    "test_features = feature_model.predict(test_images, verbose=1)\n",
    "\n",
    "# ✅ KMeans clustering to generate pseudo-ground-truth\n",
    "kmeans = KMeans(n_clusters=2, random_state=42)\n",
    "test_clusters = kmeans.fit_predict(test_features)\n",
    "soil_centroid = np.mean(train_features, axis=0, keepdims=True)\n",
    "d0, d1 = (\n",
    "    cosine_distances([kmeans.cluster_centers_[0]], soil_centroid)[0][0],\n",
    "    cosine_distances([kmeans.cluster_centers_[1]], soil_centroid)[0][0],\n",
    ")\n",
    "soil_cluster = 0 if d0 < d1 else 1\n",
    "pseudo_labels = np.array([1 if c == soil_cluster else 0 for c in test_clusters])\n",
    "print(f\"\\n🔎 Pseudo-ground-truth labels generated.\")\n",
    "\n",
    "# ✅ Load trained model\n",
    "model_path = os.path.join(BASE_DIR, \"kmeans_cnn_model.h5\")\n",
    "model = load_model(model_path)\n",
    "\n",
    "# ✅ Predict with model\n",
    "preds = (model.predict(test_images) > 0.5).astype(int).reshape(-1)\n",
    "\n",
    "# ✅ Compute F1 scores\n",
    "f1_soil = f1_score(pseudo_labels, preds, pos_label=1)\n",
    "f1_not_soil = f1_score(pseudo_labels, preds, pos_label=0)\n",
    "print(\n",
    "    f\"\\n✅ F1 Scores (pseudo-ground-truth): soil={f1_soil:.4f}, not_soil={f1_not_soil:.4f}\"\n",
    ")\n",
    "\n",
    "# ✅ Save metrics\n",
    "ml_metrics = {\n",
    "    \"_comment\": \"This JSON file contains the ml-metrics for Challenge-2 (using pseudo-ground-truth)\",\n",
    "    \"Name\": \"Sagnik Dey\",\n",
    "    \"Kaggle Username\": \"sagnikd7\",\n",
    "    \"Team Name\": \"NA (Individual)\",\n",
    "    \"f1 scores\": {\n",
    "        \"_comment\": \"Here are the class-wise F1 scores for binary classification (1=Soil, 0=Not Soil)\",\n",
    "        \"soil\": round(f1_soil, 4),\n",
    "        \"not_soil\": round(f1_not_soil, 4),\n",
    "    },\n",
    "}\n",
    "\n",
    "ml_metric_path = os.path.join(DOCS_DIR, \"ml-metric.json\")\n",
    "with open(ml_metric_path, \"w\") as f:\n",
    "    json.dump(ml_metrics, f, indent=4)\n",
    "print(f\"\\n📊 Metrics saved to {ml_metric_path}\")"
   ]
  },
  {
   "cell_type": "code",
   "execution_count": null,
   "id": "ddbe1192",
   "metadata": {},
   "outputs": [],
   "source": []
  }
 ],
 "metadata": {
  "kernelspec": {
   "display_name": "VENV",
   "language": "python",
   "name": "python3"
  },
  "language_info": {
   "codemirror_mode": {
    "name": "ipython",
    "version": 3
   },
   "file_extension": ".py",
   "mimetype": "text/x-python",
   "name": "python",
   "nbconvert_exporter": "python",
   "pygments_lexer": "ipython3",
   "version": "3.10.11"
  }
 },
 "nbformat": 4,
 "nbformat_minor": 5
}
