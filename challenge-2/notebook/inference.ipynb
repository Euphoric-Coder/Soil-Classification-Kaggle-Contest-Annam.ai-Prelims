{
 "cells": [
  {
   "cell_type": "code",
   "execution_count": 1,
   "id": "5890b0b0-0f8b-41e3-8368-dfe8fa4e139b",
   "metadata": {},
   "outputs": [
    {
     "name": "stderr",
     "output_type": "stream",
     "text": [
      "Loading images: 100%|██████████| 967/967 [00:00<00:00, 2120.53it/s]\n",
      "WARNING:absl:Compiled the loaded model, but the compiled metrics have yet to be built. `model.compile_metrics` will be empty until you train or evaluate the model.\n"
     ]
    },
    {
     "name": "stdout",
     "output_type": "stream",
     "text": [
      "\u001b[1m31/31\u001b[0m \u001b[32m━━━━━━━━━━━━━━━━━━━━\u001b[0m\u001b[37m\u001b[0m \u001b[1m1s\u001b[0m 16ms/step\n",
      "\n",
      "✅ Submission saved at /Users/sagnikdey/Downloads/FINAL/challenge-2/data/submission.csv. Predicted 471 images as soil.\n"
     ]
    }
   ],
   "source": [
    "import os\n",
    "import sys\n",
    "import numpy as np\n",
    "from tensorflow.keras.models import load_model\n",
    "sys.path.append(os.path.abspath(os.path.join(os.getcwd(), \"../src\")))\n",
    "from preprocessing import load_metadata, load_images\n",
    "from postprocessing import save_submission\n",
    "\n",
    "BASE_DIR = os.path.abspath(os.path.join(os.getcwd(), \"../data\"))\n",
    "test_df = load_metadata(BASE_DIR)[1]\n",
    "test_images = load_images(test_df)\n",
    "\n",
    "# Load model\n",
    "model_path = os.path.join(BASE_DIR, \"kmeans_cnn_model.h5\")\n",
    "model = load_model(model_path)\n",
    "final_preds = (model.predict(test_images) > 0.5).astype(int).reshape(-1)\n",
    "\n",
    "save_submission(test_df, final_preds)"
   ]
  },
  {
   "cell_type": "code",
   "execution_count": null,
   "id": "e181d4e0",
   "metadata": {},
   "outputs": [],
   "source": []
  }
 ],
 "metadata": {
  "kernelspec": {
   "display_name": "VENV",
   "language": "python",
   "name": "python3"
  },
  "language_info": {
   "codemirror_mode": {
    "name": "ipython",
    "version": 3
   },
   "file_extension": ".py",
   "mimetype": "text/x-python",
   "name": "python",
   "nbconvert_exporter": "python",
   "pygments_lexer": "ipython3",
   "version": "3.10.11"
  }
 },
 "nbformat": 4,
 "nbformat_minor": 5
}
