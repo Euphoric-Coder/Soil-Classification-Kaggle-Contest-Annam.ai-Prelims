{
 "cells": [
  {
   "cell_type": "code",
   "execution_count": 1,
   "id": "7115527f-2569-4fa3-8f04-ccd3efdad3c7",
   "metadata": {},
   "outputs": [
    {
     "name": "stderr",
     "output_type": "stream",
     "text": [
      "WARNING:absl:Compiled the loaded model, but the compiled metrics have yet to be built. `model.compile_metrics` will be empty until you train or evaluate the model.\n"
     ]
    },
    {
     "name": "stdout",
     "output_type": "stream",
     "text": [
      "Found 341 non-validated image filenames.\n",
      "\u001b[1m341/341\u001b[0m \u001b[32m━━━━━━━━━━━━━━━━━━━━\u001b[0m\u001b[37m\u001b[0m \u001b[1m3s\u001b[0m 8ms/step\n",
      "Prediction class distribution: Counter({np.str_('Black Soil'): 123, np.str_('Red soil'): 100, np.str_('Clay soil'): 74, np.str_('Alluvial soil'): 44})\n",
      "Submission file saved at: /Users/sagnikdey/Downloads/FINAL/challenge-1/data/submission.csv\n",
      "            image_id      soil_type\n",
      "0  img_cdf80d6f.jpeg  Alluvial soil\n",
      "1   img_c0142a80.jpg  Alluvial soil\n",
      "2   img_91168fb0.jpg  Alluvial soil\n",
      "3   img_9822190f.jpg     Black Soil\n",
      "4  img_e5fc436c.jpeg      Clay soil\n",
      "Submission file created at: /Users/sagnikdey/Downloads/FINAL/challenge-1/data/submission.csv\n"
     ]
    }
   ],
   "source": [
    "import os\n",
    "import sys\n",
    "import tensorflow as tf\n",
    "import pandas as pd\n",
    "from tensorflow.keras.preprocessing.image import ImageDataGenerator\n",
    "from collections import Counter\n",
    "import warnings\n",
    "\n",
    "warnings.filterwarnings(\"ignore\")\n",
    "\n",
    "# Ensure src directory is in the path\n",
    "sys.path.append(os.path.abspath(os.path.join(os.getcwd(), \"../src\")))\n",
    "from preprocessing import load_label_encoder\n",
    "from postprocessing import predict_and_prepare_submission, get_image_data_generator\n",
    "\n",
    "# ✅ PATH SETUP\n",
    "BASE_DIR = os.path.abspath(os.path.join(os.getcwd(), \"../data\"))\n",
    "TEST_FOLDER = os.path.join(BASE_DIR, \"test\")\n",
    "TEST_CSV = os.path.join(BASE_DIR, \"test_ids.csv\")\n",
    "LABEL_ENCODER_PATH = os.path.join(BASE_DIR, \"label_encoder_classes.json\")\n",
    "MODEL_PATH = os.path.join(BASE_DIR, \"soil_classifier_model.h5\")\n",
    "SUBMISSION_PATH = os.path.join(BASE_DIR, \"submission.csv\")\n",
    "\n",
    "# ✅ LOAD MODEL & LABEL ENCODER\n",
    "model = tf.keras.models.load_model(MODEL_PATH)\n",
    "le = load_label_encoder(LABEL_ENCODER_PATH)\n",
    "\n",
    "# ✅ LOAD TEST DATA\n",
    "test_df = pd.read_csv(TEST_CSV)\n",
    "test_df[\"path\"] = test_df[\"image_id\"].apply(lambda x: os.path.join(TEST_FOLDER, x))\n",
    "test_df = test_df[test_df[\"path\"].apply(os.path.exists)]\n",
    "\n",
    "# ✅ Accept extensions including .gif and .webp\n",
    "valid_extensions = [\".jpg\", \".jpeg\", \".png\", \".gif\", \".webp\"]\n",
    "test_df = test_df[\n",
    "    test_df[\"path\"].apply(lambda x: os.path.splitext(x)[-1].lower() in valid_extensions)\n",
    "]\n",
    "\n",
    "if test_df.empty:\n",
    "    raise ValueError(\n",
    "        \"No valid test images found! Please check the test folder and image formats.\"\n",
    "    )\n",
    "\n",
    "# ✅ IMAGE DATA GENERATOR\n",
    "val_gen = get_image_data_generator(rescale=1.0 / 255)\n",
    "test_flow = val_gen.flow_from_dataframe(\n",
    "    test_df,\n",
    "    TEST_FOLDER,\n",
    "    x_col=\"image_id\",\n",
    "    y_col=None,\n",
    "    target_size=(224, 224),\n",
    "    class_mode=None,\n",
    "    batch_size=1,\n",
    "    shuffle=False,\n",
    "    validate_filenames=False,  # Disable strict checking of image formats\n",
    ")\n",
    "\n",
    "# ✅ PREDICT & SUBMIT\n",
    "submission = predict_and_prepare_submission(\n",
    "    model, test_flow, test_df, TEST_CSV, le, SUBMISSION_PATH\n",
    ")\n",
    "print(submission.head())\n",
    "print(f\"Submission file created at: {SUBMISSION_PATH}\")"
   ]
  },
  {
   "cell_type": "code",
   "execution_count": null,
   "id": "5d959933-0f92-463d-9477-35965e701b8d",
   "metadata": {},
   "outputs": [],
   "source": []
  }
 ],
 "metadata": {
  "kernelspec": {
   "display_name": "VENV",
   "language": "python",
   "name": "python3"
  },
  "language_info": {
   "codemirror_mode": {
    "name": "ipython",
    "version": 3
   },
   "file_extension": ".py",
   "mimetype": "text/x-python",
   "name": "python",
   "nbconvert_exporter": "python",
   "pygments_lexer": "ipython3",
   "version": "3.10.11"
  }
 },
 "nbformat": 4,
 "nbformat_minor": 5
}
