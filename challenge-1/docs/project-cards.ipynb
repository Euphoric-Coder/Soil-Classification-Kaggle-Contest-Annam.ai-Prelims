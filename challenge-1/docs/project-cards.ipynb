{
 "cells": [
  {
   "cell_type": "code",
   "execution_count": 1,
   "id": "dee1045a",
   "metadata": {},
   "outputs": [
    {
     "name": "stdout",
     "output_type": "stream",
     "text": [
      "Found 244 validated image filenames belonging to 4 classes.\n"
     ]
    },
    {
     "name": "stderr",
     "output_type": "stream",
     "text": [
      "/Users/sagnikdey/Downloads/FINAL/VENV/lib/python3.10/site-packages/keras/src/legacy/preprocessing/image.py:920: UserWarning: Found 1 invalid image filename(s) in x_col=\"image_id\". These filename(s) will be ignored.\n",
      "  warnings.warn(\n",
      "WARNING:absl:Compiled the loaded model, but the compiled metrics have yet to be built. `model.compile_metrics` will be empty until you train or evaluate the model.\n",
      "/Users/sagnikdey/Downloads/FINAL/VENV/lib/python3.10/site-packages/keras/src/trainers/data_adapters/py_dataset_adapter.py:121: UserWarning: Your `PyDataset` class should call `super().__init__(**kwargs)` in its constructor. `**kwargs` can include `workers`, `use_multiprocessing`, `max_queue_size`. Do not pass these arguments to `fit()`, as they will be ignored.\n",
      "  self._warn_if_super_not_called()\n"
     ]
    },
    {
     "name": "stdout",
     "output_type": "stream",
     "text": [
      "\u001b[1m8/8\u001b[0m \u001b[32m━━━━━━━━━━━━━━━━━━━━\u001b[0m\u001b[37m\u001b[0m \u001b[1m1s\u001b[0m 112ms/step\n",
      "\n",
      "📊 Metrics saved to /Users/sagnikdey/Downloads/FINAL/challenge-1/docs/cards/ml-metric.json\n"
     ]
    }
   ],
   "source": [
    "import os\n",
    "import sys\n",
    "import json\n",
    "from sklearn.metrics import classification_report\n",
    "import numpy as np\n",
    "from tensorflow.keras.models import load_model\n",
    "from tensorflow.keras.preprocessing.image import ImageDataGenerator\n",
    "from sklearn.model_selection import train_test_split\n",
    "\n",
    "sys.path.append(os.path.abspath(os.path.join(os.getcwd(), \"../src\")))\n",
    "from preprocessing import load_train_data, encode_labels\n",
    "\n",
    "# ✅ Paths\n",
    "BASE_DIR = os.path.abspath(os.path.join(os.getcwd(), \"../data\"))\n",
    "DOCS_DIR = os.path.abspath(os.path.join(os.getcwd(), \"../docs/cards\"))\n",
    "os.makedirs(DOCS_DIR, exist_ok=True)\n",
    "\n",
    "TRAIN_CSV = os.path.join(BASE_DIR, \"train_labels.csv\")\n",
    "TRAIN_FOLDER = os.path.join(BASE_DIR, \"train\")\n",
    "MODEL_PATH = os.path.join(BASE_DIR, \"soil_classifier_model.h5\")\n",
    "\n",
    "# ✅ Load data and encode labels\n",
    "train_df = load_train_data(TRAIN_CSV, TRAIN_FOLDER)\n",
    "train_df, le = encode_labels(train_df)\n",
    "\n",
    "# ✅ Split into train/val (use val for evaluation)\n",
    "train_data, val_data = train_test_split(\n",
    "    train_df, test_size=0.2, stratify=train_df[\"label\"], random_state=42\n",
    ")\n",
    "\n",
    "# ✅ Prepare validation data generator\n",
    "IMG_SIZE = (224, 224)\n",
    "BATCH_SIZE = 32\n",
    "val_gen = ImageDataGenerator(rescale=1.0 / 255)\n",
    "val_flow = val_gen.flow_from_dataframe(\n",
    "    val_data,\n",
    "    TRAIN_FOLDER,\n",
    "    x_col=\"image_id\",\n",
    "    y_col=\"soil_type\",\n",
    "    target_size=IMG_SIZE,\n",
    "    class_mode=\"categorical\",\n",
    "    batch_size=BATCH_SIZE,\n",
    "    shuffle=False,\n",
    ")\n",
    "\n",
    "# ✅ Load trained model\n",
    "model = load_model(MODEL_PATH)\n",
    "\n",
    "# ✅ Predict on validation data\n",
    "pred_probs = model.predict(val_flow, verbose=1)\n",
    "# Get filenames used in val_flow\n",
    "filenames_in_flow = [os.path.basename(f) for f in val_flow.filenames]\n",
    "filtered_val_data = val_data[val_data[\"image_id\"].isin(filenames_in_flow)].reset_index(\n",
    "    drop=True\n",
    ")\n",
    "\n",
    "# Get true and predicted labels\n",
    "true_labels = filtered_val_data[\"soil_type\"].values\n",
    "pred_labels = le.inverse_transform(np.argmax(pred_probs, axis=1))\n",
    "\n",
    "\n",
    "# ✅ Calculate F1 scores per class\n",
    "f1_report = classification_report(true_labels, pred_labels, output_dict=True)\n",
    "f1_scores = {\n",
    "    \"alluvial soil\": round(f1_report.get(\"Alluvial soil\", {}).get(\"f1-score\", 0.0), 4),\n",
    "    \"red soil\": round(f1_report.get(\"Red soil\", {}).get(\"f1-score\", 0.0), 4),\n",
    "    \"black soil\": round(f1_report.get(\"Black soil\", {}).get(\"f1-score\", 0.0), 4),\n",
    "    \"clay soil\": round(f1_report.get(\"Clay soil\", {}).get(\"f1-score\", 0.0), 4),\n",
    "}\n",
    "\n",
    "# ✅ Save metrics to ml-metric.json\n",
    "ml_metrics = {\n",
    "    \"_comment\": \"This JSON file containing the ml-metrics\",\n",
    "    \"Name\": \"Sagnik Dey\",\n",
    "    \"Kaggle Username\": \"sagnikd7\",\n",
    "    \"Team Name\": \"NA (Individual)\",\n",
    "    \"f1 scores\": {\n",
    "        \"_comment\": \"Here are the class wise f1 scores\",\n",
    "        \"alluvial soil\": f1_scores[\"alluvial soil\"],\n",
    "        \"red soil\": f1_scores[\"red soil\"],\n",
    "        \"black soil\": f1_scores[\"black soil\"],\n",
    "        \"clay soil\": f1_scores[\"clay soil\"],\n",
    "    },\n",
    "}\n",
    "\n",
    "ml_metric_path = os.path.join(DOCS_DIR, \"ml-metric.json\")\n",
    "with open(ml_metric_path, \"w\") as f:\n",
    "    json.dump(ml_metrics, f, indent=4)\n",
    "\n",
    "print(f\"\\n📊 Metrics saved to {ml_metric_path}\")"
   ]
  },
  {
   "cell_type": "code",
   "execution_count": null,
   "id": "226b6662",
   "metadata": {},
   "outputs": [],
   "source": []
  }
 ],
 "metadata": {
  "kernelspec": {
   "display_name": "VENV",
   "language": "python",
   "name": "python3"
  },
  "language_info": {
   "codemirror_mode": {
    "name": "ipython",
    "version": 3
   },
   "file_extension": ".py",
   "mimetype": "text/x-python",
   "name": "python",
   "nbconvert_exporter": "python",
   "pygments_lexer": "ipython3",
   "version": "3.10.11"
  }
 },
 "nbformat": 4,
 "nbformat_minor": 5
}
